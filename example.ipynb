{
 "cells": [
  {
   "cell_type": "markdown",
   "metadata": {
    "collapsed": true
   },
   "source": [
    "# Plot a value"
   ]
  },
  {
   "cell_type": "code",
   "execution_count": null,
   "metadata": {},
   "outputs": [],
   "source": [
    "from vislogger import NumpyVisdomLogger as Nvl\n",
    "from time import sleep\n",
    "import numpy as np\n",
    "\n",
    "nvl = Nvl(name=\"my_environment\")\n",
    "\n",
    "x = 0\n",
    "for i in range(10):\n",
    "    y = np.sin(x)\n",
    "    #Add one value to the plot. Setting x-axis values is currently not supported.\n",
    "    nvl.show_value(y, name=\"sin plot\")\n",
    "    x += 0.1\n",
    "    sleep(0.1)"
   ]
  },
  {
   "cell_type": "markdown",
   "metadata": {},
   "source": [
    "# Plot images"
   ]
  },
  {
   "cell_type": "code",
   "execution_count": null,
   "metadata": {},
   "outputs": [],
   "source": [
    "from skimage.data import camera, checkerboard, chelsea, astronaut\n",
    "\n",
    "images = [astronaut(), camera(), checkerboard(), chelsea()]\n",
    "\n",
    "for i in range(100):\n",
    "    img = images[i%len(images)] #use modulo to cycle images\n",
    "    \n",
    "    #color channel has to be in first dimension\n",
    "    if len(img.shape) == 3:\n",
    "        img = img.transpose((2,0,1)) #move color channel from last to first dimension\n",
    "    \n",
    "    nvl.show_image(img, name=\"img plot\", title=\"image title\")\n",
    "    sleep(0.5)"
   ]
  }
 ],
 "metadata": {
  "kernelspec": {
   "display_name": "Python 2",
   "language": "python",
   "name": "python2"
  },
  "language_info": {
   "codemirror_mode": {
    "name": "ipython",
    "version": 2.0
   },
   "file_extension": ".py",
   "mimetype": "text/x-python",
   "name": "python",
   "nbconvert_exporter": "python",
   "pygments_lexer": "ipython2",
   "version": "2.7.12"
  }
 },
 "nbformat": 4,
 "nbformat_minor": 0
}