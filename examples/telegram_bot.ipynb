{
 "cells": [
  {
   "cell_type": "markdown",
   "metadata": {},
   "source": [
    "# Telegram Bot\n",
    "This serves as a short intro to set up your own telegram bot and retrieving the token & chat ID which can be used for the telegram logger.\n",
    "\n",
    "### Creating a New Bot & Token\n",
    "\n",
    "In your telegram appp, open up a new chat and search for **BotFather**.  \n",
    "Type  \n",
    "`/newbot`  \n",
    "to create a new bot. Choose a name and username for your bot.  \n",
    "(here - Name: TrixiBot, Username: trixi_bot)  \n",
    "\n",
    "You'll see something like this:\n",
    "\n",
    "*Done! Congratulations on your new bot. You will find it at t.me/trixi_bot. You can now add a description, about section and profile picture for your bot, see /help for a list of commands. By the way, when you've finished creating your cool bot, ping our Bot Support if you want a better username for it. Just make sure the bot is fully operational before you do this.*\n",
    "\n",
    "*Use this token to access the HTTP API:*  \n",
    "*<your_token>*\n",
    "\n",
    "*For a description of the Bot API, see this page: https://core.telegram.org/bots/api*\n",
    "\n",
    "Note your token. Now, if you haven't already done so install the python telegram bot:"
   ]
  },
  {
   "cell_type": "code",
   "execution_count": null,
   "metadata": {},
   "outputs": [],
   "source": [
    "#!pip install python-telegram-bot --upgrade"
   ]
  },
  {
   "cell_type": "markdown",
   "metadata": {},
   "source": [
    "### Retrieve Your Chat ID\n",
    "In order to use your telegram bot you first need your chat ID for the chat between you (on your telegram app) and the bot. There are two ways to check your chat ID.  \n",
    "1) Text your bot something and afterwards in your browser navigate to:  \n",
    "[https://api.telegram.org/bot<your_token>/getUpdates](https://api.telegram.org/bot<your_token>/getUpdates)  \n",
    "2) The python way: Text your bot something and afterwars print the first element from `get_updates()`"
   ]
  },
  {
   "cell_type": "code",
   "execution_count": null,
   "metadata": {},
   "outputs": [],
   "source": [
    "import telegram\n",
    "\n",
    "bot = telegram.Bot(token='<your_token>')\n",
    "print(bot.get_updates()[0])"
   ]
  },
  {
   "cell_type": "markdown",
   "metadata": {},
   "source": [
    "Here you can find your chat ID. That's all you need for using the telegram logger. Now you can test your bot by sending some message from your bot to your phone.  \n",
    "(Note: both <your_token> and <your_chat_id> should be passed as a string.)"
   ]
  },
  {
   "cell_type": "code",
   "execution_count": null,
   "metadata": {},
   "outputs": [],
   "source": [
    "bot.send_message(chat_id='<your_chat_id>', text='Hello Bot!')"
   ]
  }
 ],
 "metadata": {
  "kernelspec": {
   "display_name": "Python 3",
   "language": "python",
   "name": "python3"
  },
  "language_info": {
   "codemirror_mode": {
    "name": "ipython",
    "version": 3
   },
   "file_extension": ".py",
   "mimetype": "text/x-python",
   "name": "python",
   "nbconvert_exporter": "python",
   "pygments_lexer": "ipython3",
   "version": "3.6.4"
  }
 },
 "nbformat": 4,
 "nbformat_minor": 2
}
