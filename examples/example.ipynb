{
 "cells": [
  {
   "cell_type": "markdown",
   "metadata": {
    "collapsed": true
   },
   "source": [
    "# Example\n",
    "\n",
    "First you have to start the visdom server\n",
    "```\n",
    "python -m visdom.server\n",
    "```\n",
    "and go to `http://localhost:8097/`.\n",
    "\n",
    "Then you can run the following code and get a line plot and an image plot.\n",
    "\n",
    "After starting the code you have to select `my_environment` in the environment dropdown in your browser. Maybe you have to refresh the page to see it."
   ]
  },
  {
   "cell_type": "markdown",
   "metadata": {},
   "source": [
    "## Plot a value"
   ]
  },
  {
   "cell_type": "code",
   "execution_count": 1,
   "metadata": {
    "collapsed": true
   },
   "outputs": [],
   "source": [
    "from vislogger import NumpyVisdomLogger as Nvl\n",
    "from time import sleep\n",
    "import numpy as np\n",
    "\n",
    "nvl = Nvl(name=\"my_environment\")\n",
    "\n",
    "x = 0\n",
    "for i in range(50):\n",
    "    y = np.sin(x)\n",
    "    #Add one value to the plot. Setting x-axis values is currently not supported.\n",
    "    nvl.show_value(y, name=\"sin plot\")\n",
    "    x += 0.1\n",
    "    sleep(0.1)"
   ]
  },
  {
   "cell_type": "markdown",
   "metadata": {},
   "source": [
    "## Plot image and text"
   ]
  },
  {
   "cell_type": "code",
   "execution_count": 2,
   "metadata": {
    "collapsed": true
   },
   "outputs": [],
   "source": [
    "from vislogger import NumpyVisdomLogger as Nvl\n",
    "from time import sleep\n",
    "import numpy as np\n",
    "from skimage.data import camera, checkerboard, chelsea, astronaut\n",
    "\n",
    "nvl = Nvl(name=\"my_environment\")\n",
    "\n",
    "images = [astronaut(), camera(), checkerboard(), chelsea()]\n",
    "\n",
    "for i in range(50):\n",
    "    img = images[i%len(images)] #use modulo to cycle images\n",
    "    \n",
    "    #color channel has to be in first dimension\n",
    "    if len(img.shape) == 3:\n",
    "        img = img.transpose((2,0,1)) #move color channel from last to first dimension\n",
    "    \n",
    "    nvl.show_image(img, name=\"img plot\", title=\"image title\")\n",
    "    nvl.show_text(\"Iteration index: {}\".format(i), name=\"text plot\")\n",
    "    sleep(0.5)"
   ]
  },
  {
   "cell_type": "markdown",
   "metadata": {},
   "source": [
    "## Plot image grid"
   ]
  },
  {
   "cell_type": "code",
   "execution_count": 20,
   "metadata": {
    "collapsed": false
   },
   "outputs": [],
   "source": [
    "from vislogger import NumpyVisdomLogger as Nvl\n",
    "from time import sleep\n",
    "import numpy as np\n",
    "from skimage.data import camera, checkerboard, chelsea, astronaut, clock, coffee, coins, horse, moon, rocket\n",
    "\n",
    "nvl = Nvl(name=\"my_environment\")\n",
    "\n",
    "#Prepare images\n",
    "images = [astronaut(), camera(), checkerboard(), chelsea(), clock(), coffee(), coins(), horse(), moon(), rocket()]\n",
    "images_converted = []\n",
    "for img in images:\n",
    "    img = img[:200,:200] #make all images have same dimensions\n",
    "    if len(img.shape) == 3:\n",
    "        img = img[:,:,0]    #if rgb image use only one channel\n",
    "    images_converted.append(img)\n",
    "images_converted = np.array(images_converted)\n",
    "s = images_converted.shape # (10, 200, 200)\n",
    "images_converted = np.reshape(images_converted, (s[0], 1, s[1], s[2])) # images need to have channel dimension in the beginning. New shape: (10, 1, 200, 200)\n",
    "\n",
    "#Show images\n",
    "nvl.show_images(images_converted, name=\"img grid plot\", title=\"image grid title\")"
   ]
  },
  {
   "cell_type": "markdown",
   "metadata": {},
   "source": [
    "# Plot Histogram"
   ]
  },
  {
   "cell_type": "code",
   "execution_count": 42,
   "metadata": {
    "collapsed": false
   },
   "outputs": [],
   "source": [
    "from vislogger import NumpyVisdomLogger as Nvl\n",
    "from time import sleep\n",
    "import numpy as np\n",
    "import random\n",
    "\n",
    "nvl = Nvl(name=\"my_environment\")\n",
    "\n",
    "values = [random.gauss(0, 1)]\n",
    "for i in range(50):\n",
    "    values.append(random.gauss(0, 1))\n",
    "    nvl.show_histogram(np.array(values), name=\"histogram plot\")\n",
    "    sleep(0.1)"
   ]
  },
  {
   "cell_type": "markdown",
   "metadata": {},
   "source": [
    "## Plot 3D Histogram"
   ]
  },
  {
   "cell_type": "code",
   "execution_count": 45,
   "metadata": {
    "collapsed": true
   },
   "outputs": [],
   "source": [
    "from vislogger import NumpyVisdomLogger as Nvl\n",
    "from time import sleep\n",
    "import numpy as np\n",
    "import random\n",
    "\n",
    "nvl = Nvl(name=\"my_environment\")\n",
    "\n",
    "for i in range(5):\n",
    "    new_ar = np.random.normal(0, 1, 2000)\n",
    "    nvl.show_histogram_3d(new_ar, name=\"histogram 3D plot\")  # will multiply values by 100 to make plots better visible\n",
    "    sleep(0.1)"
   ]
  },
  {
   "cell_type": "markdown",
   "metadata": {},
   "source": [
    "## Use Combined Logger\n",
    "\n",
    "CombinedLogger will send the values to all the Logger it was given in the Constructor. So you can show values in Visdom and at the same time save the same values as file."
   ]
  },
  {
   "cell_type": "code",
   "execution_count": 4,
   "metadata": {
    "collapsed": true
   },
   "outputs": [],
   "source": [
    "from vislogger import NumpyVisdomLogger as Nvl\n",
    "from vislogger import NumpyFileLogger as Nfl\n",
    "from vislogger import CombinedLogger\n",
    "from time import sleep\n",
    "import numpy as np\n",
    "\n",
    "nvl = Nvl(name=\"my_environment\")\n",
    "nfl = Nfl(\"/Users/jakob/Downloads\")     # will create directory run-00000 with the results\n",
    "\n",
    "# the number behind each Logger specifies if we want to log every value or only every xth value \n",
    "# (good for FileLogger because we do not want him to save too many files) \n",
    "cl = CombinedLogger((nvl, 1), (nfl, 10)) \n",
    "\n",
    "x = 0\n",
    "for i in range(50):\n",
    "    y = np.sin(x)\n",
    "    #Add one value to the plot. Setting x-axis values is currently not supported.\n",
    "    cl.show_value(y, name=\"sin plot\")\n",
    "    x += 0.1\n",
    "    sleep(0.1)"
   ]
  }
 ],
 "metadata": {
  "kernelspec": {
   "display_name": "Python 2",
   "language": "python",
   "name": "python2"
  },
  "language_info": {
   "codemirror_mode": {
    "name": "ipython",
    "version": 2.0
   },
   "file_extension": ".py",
   "mimetype": "text/x-python",
   "name": "python",
   "nbconvert_exporter": "python",
   "pygments_lexer": "ipython2",
   "version": "2.7.12"
  }
 },
 "nbformat": 4,
 "nbformat_minor": 0
}