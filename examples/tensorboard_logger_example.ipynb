{
 "cells": [
  {
   "cell_type": "markdown",
   "metadata": {},
   "source": [
    "# Example for using the tensorboard logger\n",
    "\n",
    "The first part of this tutorial consists of the similar examples as in `numpy_visdom_logger_example.ipynb`.\n",
    "The second part contains a pointer to advanced functionality as well as some example usages, in particular the use of tensorboard's hparam view.\n",
    "\n",
    "*Make sure that tensorboard version 2.0 or later is installed in your environment.*\n",
    "\n",
    "\n",
    "Start tensorboard by running\n",
    "```tensorboard --logdir=runs```,\n",
    "which will set up tensorboard such that it looks for event files in the `runs` directory.\n",
    "Then navigate to `http://localhost:6006/` in your browser.\n",
    "\n"
   ]
  },
  {
   "cell_type": "markdown",
   "metadata": {},
   "source": [
    "## Basic logging functions\n",
    "### Plot a value\n"
   ]
  },
  {
   "cell_type": "code",
   "execution_count": 1,
   "metadata": {},
   "outputs": [],
   "source": [
    "import numpy"
   ]
  },
  {
   "cell_type": "code",
   "execution_count": 2,
   "metadata": {
    "pycharm": {
     "is_executing": false,
     "name": "#%%\n"
    }
   },
   "outputs": [],
   "source": [
    "from trixi.logger.tensorboard import TensorboardLogger\n",
    "from time import sleep\n",
    "import numpy as np\n",
    "\n",
    "tb_logger = TensorboardLogger(target_dir='runs/my_log')\n",
    "\n",
    "for i, x in enumerate(np.linspace(0, 10, 50)):\n",
    "    y = np.sin(x)\n",
    "    # Add one value to the plot. The x-axis values are determined by the counter and cannot be set directly.\n",
    "    tb_logger.show_value(y, name=\"sin plot\", counter=i)\n",
    "    sleep(0.1)\n",
    "    "
   ]
  },
  {
   "cell_type": "markdown",
   "metadata": {
    "pycharm": {
     "name": "#%% md\n"
    }
   },
   "source": [
    "In your browser, you should see an interactivate plot of the sine curve, for which a smoothing slider can be adjusted.\n",
    "A value of 0 should yield the original data. \n",
    "\n",
    "### Plot image and text"
   ]
  },
  {
   "cell_type": "code",
   "execution_count": 3,
   "metadata": {
    "pycharm": {
     "is_executing": false,
     "name": "#%%\n"
    }
   },
   "outputs": [],
   "source": [
    "from skimage.data import camera, checkerboard, chelsea, astronaut\n",
    "\n",
    "images = [astronaut(), camera(), checkerboard(), chelsea()]\n",
    "\n",
    "for i in range(50):\n",
    "    img = images[i%len(images)] #use modulo to cycle images\n",
    "    \n",
    "    # color channel has to be in first dimension. tensorboard expects CHW if not specified otherwise in dataformat\n",
    "    if len(img.shape) == 3:\n",
    "        img = img.transpose((2,0,1)) #move color channel from last to first dimension\n",
    "    elif len(img.shape) == 2:\n",
    "        img = np.expand_dims(img, 0)\n",
    "    \n",
    "    tb_logger.show_image(img, name=\"img plot\", counter=i)\n",
    "    tb_logger.show_text(\"Iteration index: {}\".format(i), name=\"text plot\", counter=i)\n",
    "    sleep(0.5)"
   ]
  },
  {
   "cell_type": "markdown",
   "metadata": {
    "pycharm": {
     "name": "#%% md\n"
    }
   },
   "source": [
    "You should see a new element in the \"Images\" tab within tensorboard. The slider above the image lets you scroll through steps. Unfortunately, for many steps, not all are saved. It is not clear yet if this is a trixi or tensorboard bug.\n",
    "The text message for each step is displayed in the \"Text\" tab.\n",
    "\n",
    "### Plot image grid"
   ]
  },
  {
   "cell_type": "code",
   "execution_count": 4,
   "metadata": {
    "pycharm": {
     "is_executing": false,
     "name": "#%%\n"
    }
   },
   "outputs": [],
   "source": [
    "from skimage.data import camera, checkerboard, chelsea, astronaut, clock, coffee, coins, horse, moon, rocket\n",
    "from skimage.transform import resize\n",
    "from skimage.color import rgb2gray\n",
    "\n",
    "images = [astronaut(), camera(), checkerboard(), chelsea(), clock(), coffee(), coins(), horse(), moon(), rocket()]\n",
    "images_converted = []\n",
    "for img in images:\n",
    "    img = resize(img, (200, 200))   # make all images have same dimensions\n",
    "    # img = img[:200,:200] \n",
    "    if len(img.shape) == 3:\n",
    "        img = rgb2gray(img)    # if rgb convert into grayscale\n",
    "    images_converted.append(img)\n",
    "images_converted = np.array(images_converted)\n",
    "s = images_converted.shape # (10, 200, 200)\n",
    "images_converted = np.reshape(images_converted, (s[0], 1, s[1], s[2])) # images need to have channel dimension in the beginning. New shape: (10, 1, 200, 200)\n",
    "\n",
    "#Show images\n",
    "tb_logger.show_images(images_converted, name=\"img grid plot\")"
   ]
  },
  {
   "cell_type": "markdown",
   "metadata": {
    "pycharm": {
     "name": "#%% md\n"
    }
   },
   "source": [
    "Images can be displayed in a grid with above function. The expected input shape is (number of images, number of channels, width, height)"
   ]
  },
  {
   "cell_type": "markdown",
   "metadata": {
    "pycharm": {
     "name": "#%% md\n"
    }
   },
   "source": [
    "## Advanced logging functions\n",
    "\n",
    "Apart from the basic functionality above, tensorboard allows to log matplotlib figures, as well as data analysis tools and utilies such as:\n",
    "* Histograms evolving with (time) step\n",
    "* Visualization of feature space embeddings\n",
    "* Visualization of model graph\n",
    "* Plotting a PR curve\n",
    "* Logging and comparing hyperparameters\n",
    "\n",
    "For more information see the tutorial (https://pytorch.org/tutorials/intermediate/tensorboard_tutorial.html#writing-to-tensorboard), which transfers directly to the trixi logger, except that the methods are called `show_X` instead of `add_X`.\n",
    "\n",
    "Here we only cover two use-cases: logging of a scatter plot and using the hparams-view of tensorboard with the trixi logger."
   ]
  },
  {
   "cell_type": "markdown",
   "metadata": {},
   "source": [
    "### Log scatter plot"
   ]
  },
  {
   "cell_type": "code",
   "execution_count": 5,
   "metadata": {},
   "outputs": [
    {
     "name": "stdout",
     "output_type": "stream",
     "text": [
      "(100, 2)\n"
     ]
    },
    {
     "data": {
      "image/png": "[encoded data removed]",
      "text/plain": [
       "<Figure size 432x288 with 1 Axes>"
      ]
     },
     "metadata": {
      "needs_background": "light"
     },
     "output_type": "display_data"
    }
   ],
   "source": [
    "n_data = 100\n",
    "x1 = np.random.rand(n_data)\n",
    "y1 = x1 + np.random.randn(len(x1)) * x1\n",
    "array = np.stack((x1, y1)).T\n",
    "print(array.shape)\n",
    "tb_logger.show_scatterplot(array, name=\"Correlations\")"
   ]
  },
  {
   "cell_type": "markdown",
   "metadata": {},
   "source": [
    "As you can see, this method saves a copy of the plot in the image tab of tensorboard and also returns the figure."
   ]
  },
  {
   "cell_type": "markdown",
   "metadata": {
    "pycharm": {
     "name": "#%% md\n"
    }
   },
   "source": [
    "## hparam view\n",
    "Using tensorboard, it is possible to log the hyperparameters used for an experiment and compare the performance of different hyperparameter configurations. Below we generate some dummy hparams and metrics and log them in tensorboard using the `show_hparams` method, which directly passes the arguments on to the tensorboard writer."
   ]
  },
  {
   "cell_type": "code",
   "execution_count": 6,
   "metadata": {},
   "outputs": [],
   "source": [
    "def get_all_combinations(value_dict):\n",
    "    import itertools as it\n",
    "    allNames = sorted(value_dict)\n",
    "    combinations = it.product(*(value_dict[Name] for Name in allNames))\n",
    "    return allNames, list(combinations)\n",
    "\n",
    "hparam_values = {\n",
    "    'learning_rate': [1e-3, 1e-2],\n",
    "    'batch_size': [64, 128],\n",
    "    'dropout': [True, False],\n",
    "    'architecture': ['AlexNet', 'ResNet18']\n",
    "}\n",
    "\n",
    "hparam_keys, hparams_combinations = get_all_combinations(hparam_values)\n",
    "for i, hparams in enumerate(hparams_combinations):\n",
    "    hparam_dict = {k: hparams[i] for i, k in enumerate(hparam_keys)}\n",
    "    metric_dict = {'hparam/accuracy': np.random.rand(),\n",
    "                   'hparam/loss': i}\n",
    "    tb_logger.show_hparams(hparam_dict, metric_dict)\n",
    "    "
   ]
  },
  {
   "cell_type": "markdown",
   "metadata": {
    "pycharm": {
     "name": "#%%\n"
    }
   },
   "source": [
    "In the hparams-tab in tensorboard, you can compare the performances for each configuration.\n",
    "\n",
    "One way to incororate this functionality in a trixi experiment is to log the hparams in the `Experiment.end()` method."
   ]
  }
 ],
 "metadata": {
  "kernelspec": {
   "display_name": "Python 3",
   "language": "python",
   "name": "python3"
  },
  "language_info": {
   "codemirror_mode": {
    "name": "ipython",
    "version": 3
   },
   "file_extension": ".py",
   "mimetype": "text/x-python",
   "name": "python",
   "nbconvert_exporter": "python",
   "pygments_lexer": "ipython3",
   "version": "3.8.1"
  },
  "pycharm": {
   "stem_cell": {
    "cell_type": "raw",
    "metadata": {
     "collapsed": false
    },
    "source": []
   }
  }
 },
 "nbformat": 4,
 "nbformat_minor": 1
}
